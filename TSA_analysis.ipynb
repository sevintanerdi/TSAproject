{
 "cells": [
  {
   "cell_type": "code",
   "execution_count": 1,
   "id": "497e1428",
   "metadata": {},
   "outputs": [
    {
     "name": "stdout",
     "output_type": "stream",
     "text": [
      "Defaulting to user installation because normal site-packages is not writeable\n",
      "Collecting pytrends\n",
      "  Obtaining dependency information for pytrends from https://files.pythonhosted.org/packages/68/ba/7a24a3723c790000faf880505ff1cc46f4d29f46dd353037938a070c4d23/pytrends-4.9.2-py3-none-any.whl.metadata\n",
      "  Downloading pytrends-4.9.2-py3-none-any.whl.metadata (13 kB)\n",
      "Requirement already satisfied: requests>=2.0 in c:\\programdata\\anaconda3\\lib\\site-packages (from pytrends) (2.31.0)\n",
      "Requirement already satisfied: pandas>=0.25 in c:\\programdata\\anaconda3\\lib\\site-packages (from pytrends) (2.0.3)\n",
      "Requirement already satisfied: lxml in c:\\programdata\\anaconda3\\lib\\site-packages (from pytrends) (4.9.3)\n",
      "Requirement already satisfied: python-dateutil>=2.8.2 in c:\\programdata\\anaconda3\\lib\\site-packages (from pandas>=0.25->pytrends) (2.8.2)\n",
      "Requirement already satisfied: pytz>=2020.1 in c:\\programdata\\anaconda3\\lib\\site-packages (from pandas>=0.25->pytrends) (2023.3.post1)\n",
      "Requirement already satisfied: tzdata>=2022.1 in c:\\programdata\\anaconda3\\lib\\site-packages (from pandas>=0.25->pytrends) (2023.3)\n",
      "Requirement already satisfied: numpy>=1.21.0 in c:\\programdata\\anaconda3\\lib\\site-packages (from pandas>=0.25->pytrends) (1.24.3)\n",
      "Requirement already satisfied: charset-normalizer<4,>=2 in c:\\programdata\\anaconda3\\lib\\site-packages (from requests>=2.0->pytrends) (2.0.4)\n",
      "Requirement already satisfied: idna<4,>=2.5 in c:\\programdata\\anaconda3\\lib\\site-packages (from requests>=2.0->pytrends) (3.4)\n",
      "Requirement already satisfied: urllib3<3,>=1.21.1 in c:\\programdata\\anaconda3\\lib\\site-packages (from requests>=2.0->pytrends) (1.26.16)\n",
      "Requirement already satisfied: certifi>=2017.4.17 in c:\\users\\lo79rs\\appdata\\roaming\\python\\python311\\site-packages (from requests>=2.0->pytrends) (2025.4.26)\n",
      "Requirement already satisfied: six>=1.5 in c:\\programdata\\anaconda3\\lib\\site-packages (from python-dateutil>=2.8.2->pandas>=0.25->pytrends) (1.16.0)\n",
      "Downloading pytrends-4.9.2-py3-none-any.whl (15 kB)\n",
      "Installing collected packages: pytrends\n",
      "Successfully installed pytrends-4.9.2\n",
      "Note: you may need to restart the kernel to use updated packages.\n"
     ]
    }
   ],
   "source": [
    "pip install pytrends\n"
   ]
  },
  {
   "cell_type": "code",
   "execution_count": null,
   "id": "efdb57a2",
   "metadata": {},
   "outputs": [
    {
     "data": {
      "text/html": [
       "<div>\n",
       "<style scoped>\n",
       "    .dataframe tbody tr th:only-of-type {\n",
       "        vertical-align: middle;\n",
       "    }\n",
       "\n",
       "    .dataframe tbody tr th {\n",
       "        vertical-align: top;\n",
       "    }\n",
       "\n",
       "    .dataframe thead th {\n",
       "        text-align: right;\n",
       "    }\n",
       "</style>\n",
       "<table border=\"1\" class=\"dataframe\">\n",
       "  <thead>\n",
       "    <tr style=\"text-align: right;\">\n",
       "      <th></th>\n",
       "      <th>date</th>\n",
       "      <th>covid symptoms</th>\n",
       "      <th>covid test</th>\n",
       "    </tr>\n",
       "  </thead>\n",
       "  <tbody>\n",
       "    <tr>\n",
       "      <th>0</th>\n",
       "      <td>2020-01-05</td>\n",
       "      <td>57.450712</td>\n",
       "      <td>95.978027</td>\n",
       "    </tr>\n",
       "    <tr>\n",
       "      <th>1</th>\n",
       "      <td>2020-01-12</td>\n",
       "      <td>47.926035</td>\n",
       "      <td>53.634941</td>\n",
       "    </tr>\n",
       "    <tr>\n",
       "      <th>2</th>\n",
       "      <td>2020-01-19</td>\n",
       "      <td>59.715328</td>\n",
       "      <td>71.070984</td>\n",
       "    </tr>\n",
       "    <tr>\n",
       "      <th>3</th>\n",
       "      <td>2020-01-26</td>\n",
       "      <td>72.845448</td>\n",
       "      <td>82.385465</td>\n",
       "    </tr>\n",
       "    <tr>\n",
       "      <th>4</th>\n",
       "      <td>2020-02-02</td>\n",
       "      <td>46.487699</td>\n",
       "      <td>53.001612</td>\n",
       "    </tr>\n",
       "  </tbody>\n",
       "</table>\n",
       "</div>"
      ],
      "text/plain": [
       "         date  covid symptoms  covid test\n",
       "0  2020-01-05       57.450712   95.978027\n",
       "1  2020-01-12       47.926035   53.634941\n",
       "2  2020-01-19       59.715328   71.070984\n",
       "3  2020-01-26       72.845448   82.385465\n",
       "4  2020-02-02       46.487699   53.001612"
      ]
     },
     "execution_count": 16,
     "metadata": {},
     "output_type": "execute_result"
    }
   ],
   "source": [
    "import pandas as pd\n",
    "data = pd.read_csv('trends_covid_symptoms_test_simulated.csv')\n",
    "data.head()"
   ]
  },
  {
   "cell_type": "markdown",
   "id": "28785549",
   "metadata": {},
   "source": [
    "##### 1. ADF Test for stationarity"
   ]
  },
  {
   "cell_type": "code",
   "execution_count": 17,
   "id": "3e7dd500",
   "metadata": {},
   "outputs": [],
   "source": [
    "from statsmodels.tsa.stattools import adfuller"
   ]
  },
  {
   "cell_type": "code",
   "execution_count": 19,
   "id": "7fcdeb73",
   "metadata": {},
   "outputs": [],
   "source": [
    "def adf_test(series, name):\n",
    "    result = adfuller(series)\n",
    "    print(f\"ADF Test for {name}:\")\n",
    "    print(f\" Test Statistic : {result[0]:.4f}\")\n",
    "    print(f\" p-value : {result[1]:.4f}\")\n",
    "    print(f\" Critical Values:\")\n",
    "    for key, value in result[4].items():\n",
    "        print(f\" {key}: {value:.4f}\")\n",
    "    print(\" =>\", \"Stationary\" if result[1] < 0.05 else \"Non-stationary\", \"\\n\")"
   ]
  },
  {
   "cell_type": "code",
   "execution_count": 20,
   "id": "f61df178",
   "metadata": {},
   "outputs": [
    {
     "name": "stdout",
     "output_type": "stream",
     "text": [
      "ADF Test for covid symptomps:\n",
      " Test Statistic : -6.5816\n",
      " p-value : 0.0000\n",
      " Critical Values:\n",
      " 1%: -3.4628\n",
      " 5%: -2.8758\n",
      " 10%: -2.5744\n",
      " => Stationary \n",
      "\n",
      "ADF Test for covid test:\n",
      " Test Statistic : -14.5191\n",
      " p-value : 0.0000\n",
      " Critical Values:\n",
      " 1%: -3.4622\n",
      " 5%: -2.8755\n",
      " 10%: -2.5742\n",
      " => Stationary \n",
      "\n"
     ]
    }
   ],
   "source": [
    "adf_test(data['covid symptoms'], 'covid symptomps')\n",
    "adf_test(data['covid test'], 'covid test')"
   ]
  }
 ],
 "metadata": {
  "kernelspec": {
   "display_name": "base",
   "language": "python",
   "name": "python3"
  },
  "language_info": {
   "codemirror_mode": {
    "name": "ipython",
    "version": 3
   },
   "file_extension": ".py",
   "mimetype": "text/x-python",
   "name": "python",
   "nbconvert_exporter": "python",
   "pygments_lexer": "ipython3",
   "version": "3.11.5"
  }
 },
 "nbformat": 4,
 "nbformat_minor": 5
}
